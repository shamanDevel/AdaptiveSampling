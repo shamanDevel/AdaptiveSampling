{
 "cells": [
  {
   "cell_type": "code",
   "execution_count": 1,
   "metadata": {},
   "outputs": [],
   "source": [
    "import numpy as np\n",
    "from math import sqrt, exp"
   ]
  },
  {
   "cell_type": "code",
   "execution_count": 2,
   "metadata": {},
   "outputs": [],
   "source": [
    "distanceToStandardDeviation = 0.5\n",
    "\n",
    "def smooth1D(input, inputSize, distance):\n",
    "    standardDeviation = distance * distanceToStandardDeviation\n",
    "    denom = 1 / (2 * standardDeviation * standardDeviation)\n",
    "    \n",
    "    out = 0\n",
    "    weightSum = 0\n",
    "    for x in range(-inputSize, +inputSize+1):\n",
    "        d = x*x\n",
    "        weight = exp(-denom*d)\n",
    "        out += weight * input[x]\n",
    "        weightSum += weight\n",
    "        #print(\" x=%d, weight=%f, input=%f -> out=%f\"%(x, weight, input[x], weight * input[x]))\n",
    "    result = out / weightSum\n",
    "    #print(\"out=%f, weightSum=%f -> result=%f\"%(out, weightSum, result))\n",
    "    return result"
   ]
  },
  {
   "cell_type": "code",
   "execution_count": 3,
   "metadata": {},
   "outputs": [],
   "source": [
    "input = np.array([1, 2, 3, 0, 0, -2, -3], dtype=np.float64)\n",
    "inputSize = 2\n",
    "distance = 1.5"
   ]
  },
  {
   "cell_type": "code",
   "execution_count": 4,
   "metadata": {},
   "outputs": [],
   "source": [
    "smoothed = smooth1D(input, inputSize, distance)"
   ]
  },
  {
   "cell_type": "code",
   "execution_count": 5,
   "metadata": {},
   "outputs": [],
   "source": [
    "def adjSmooth1D(input, inputSize, distance, adjResult):\n",
    "    # forward\n",
    "    standardDeviation = distance * distanceToStandardDeviation\n",
    "    denom = 1 / (2 * standardDeviation * standardDeviation)\n",
    "    \n",
    "    out = 0\n",
    "    weightSum = 0\n",
    "    for x in range(-inputSize, +inputSize+1):\n",
    "        d = x*x\n",
    "        weight = exp(-denom*d)\n",
    "        out += weight * input[x]\n",
    "        weightSum += weight\n",
    "    result = out / weightSum # not needed\n",
    "        \n",
    "    # backward\n",
    "    adjOut = adjResult / weightSum\n",
    "    adjWeightSum = -adjResult * out / weightSum / weightSum\n",
    "    print(\"adjOut=%f, adjWeightSum=%f\" %(adjOut, adjWeightSum))\n",
    "    \n",
    "    adjDenom = 0\n",
    "    adjInput = np.zeros(input.shape)\n",
    "    for x in range(-inputSize, +inputSize+1):\n",
    "        # forward\n",
    "        d = x*x\n",
    "        weight = exp(-denom*d)\n",
    "        # backward\n",
    "        adjWeight = adjWeightSum\n",
    "        adjWeight += adjOut * input[x]\n",
    "        adjInput[x] += adjOut * weight\n",
    "        adjDenom -= adjWeight * d * exp(-denom*d)\n",
    "        print(\" x=%d, adjWeight=%f, adjInput=%f, adjDenom=%f\"%(x, adjWeight, adjInput[x], -adjWeight * d * exp(-denom*d)))\n",
    "    \n",
    "    adjStandardDeviation = -adjDenom / (standardDeviation*standardDeviation*standardDeviation)\n",
    "    adjDistance = adjStandardDeviation * distanceToStandardDeviation\n",
    "    print(\"adjDistance=%f\"%adjDistance)\n",
    "    \n",
    "    return adjInput, adjDistance"
   ]
  },
  {
   "cell_type": "code",
   "execution_count": 6,
   "metadata": {},
   "outputs": [
    {
     "name": "stdout",
     "output_type": "stream",
     "text": [
      "adjOut=0.532097, adjWeightSum=-0.174818\n",
      " x=-2, adjWeight=-1.239013, adjInput=0.015200, adjDenom=0.141572\n",
      " x=-1, adjWeight=-1.771110, adjInput=0.218752, adjDenom=0.728125\n",
      " x=0, adjWeight=0.357279, adjInput=0.532097, adjDenom=-0.000000\n",
      " x=1, adjWeight=0.889377, adjInput=0.218752, adjDenom=-0.365634\n",
      " x=2, adjWeight=1.421474, adjInput=0.015200, adjDenom=-0.162420\n",
      "adjDistance=-0.404910\n"
     ]
    }
   ],
   "source": [
    "adjResult = 1\n",
    "adjInput, adjDistance = adjSmooth1D(input, inputSize, distance, adjResult)"
   ]
  },
  {
   "cell_type": "code",
   "execution_count": 7,
   "metadata": {},
   "outputs": [],
   "source": [
    "def validate(input, inputSize, distance, adjResult, epsilon=1e-7):\n",
    "    print(\"Input:\", input, \"(size=%d)\"%inputSize)\n",
    "    print(\"Distance:\", distance)\n",
    "    print(\"adjResult:\", adjResult)\n",
    "    \n",
    "    # analytic gradient\n",
    "    anaGradInput, anaGradDistance = adjSmooth1D(input, inputSize, distance, adjResult)\n",
    "    \n",
    "    # numeric\n",
    "    print(\"Epsilon:\", epsilon)\n",
    "    result = smooth1D(input, inputSize, distance)\n",
    "    for x in range(-inputSize, +inputSize+1):\n",
    "        input2 = input.copy()\n",
    "        #print(\"input2:\", input2)\n",
    "        input2[x] = input2[x]+epsilon\n",
    "        #print(\"input2:\", input2)\n",
    "        res = smooth1D(input2, inputSize, distance)\n",
    "        numGradInput = (res - result) / epsilon * adjResult\n",
    "        print(\"Input[%d], analytic=%f, numeric=%f\"%(x, anaGradInput[x], numGradInput))\n",
    "    distance2 = distance + epsilon\n",
    "    resD = smooth1D(input, inputSize, distance2)\n",
    "    numGradDistance = (resD - result) / epsilon * adjResult\n",
    "    print(\"Distance, analytic=%f, numeric=%f\"%(anaGradDistance, numGradDistance))"
   ]
  },
  {
   "cell_type": "code",
   "execution_count": 8,
   "metadata": {
    "scrolled": false
   },
   "outputs": [
    {
     "name": "stdout",
     "output_type": "stream",
     "text": [
      "Input: [ 1.  2.  3.  0.  0. -2. -3.] (size=2)\n",
      "Distance: 1.5\n",
      "adjResult: -3\n",
      "adjOut=-1.596292, adjWeightSum=0.524454\n",
      " x=-2, adjWeight=3.717038, adjInput=-0.045599, adjDenom=-0.424716\n",
      " x=-1, adjWeight=5.313330, adjInput=-0.656255, adjDenom=-2.184375\n",
      " x=0, adjWeight=-1.071838, adjInput=-1.596292, adjDenom=0.000000\n",
      " x=1, adjWeight=-2.668130, adjInput=-0.656255, adjDenom=1.096901\n",
      " x=2, adjWeight=-4.264422, adjInput=-0.045599, adjDenom=0.487261\n",
      "adjDistance=1.214731\n",
      "Epsilon: 1e-07\n",
      "Input[-2], analytic=-0.045599, numeric=-0.045599\n",
      "Input[-1], analytic=-0.656255, numeric=-0.656255\n",
      "Input[0], analytic=-1.596292, numeric=-1.596292\n",
      "Input[1], analytic=-0.656255, numeric=-0.656255\n",
      "Input[2], analytic=-0.045599, numeric=-0.045599\n",
      "Distance, analytic=1.214731, numeric=1.214730\n"
     ]
    }
   ],
   "source": [
    "validate(input, inputSize, distance, -3)"
   ]
  },
  {
   "cell_type": "code",
   "execution_count": 9,
   "metadata": {},
   "outputs": [
    {
     "data": {
      "text/plain": [
       "-3.0"
      ]
     },
     "execution_count": 9,
     "metadata": {},
     "output_type": "execute_result"
    }
   ],
   "source": [
    "input[-1]"
   ]
  }
 ],
 "metadata": {
  "kernelspec": {
   "display_name": "Python 3",
   "language": "python",
   "name": "python3"
  },
  "language_info": {
   "codemirror_mode": {
    "name": "ipython",
    "version": 3
   },
   "file_extension": ".py",
   "mimetype": "text/x-python",
   "name": "python",
   "nbconvert_exporter": "python",
   "pygments_lexer": "ipython3",
   "version": "3.6.6"
  }
 },
 "nbformat": 4,
 "nbformat_minor": 2
}
